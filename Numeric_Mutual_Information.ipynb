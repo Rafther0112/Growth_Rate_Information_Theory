{
 "cells": [
  {
   "cell_type": "markdown",
   "metadata": {},
   "source": [
    "Pruebas de Codigo RAFA\n",
    "Transcripcion de codigo a python"
   ]
  },
  {
   "cell_type": "code",
   "execution_count": 2,
   "metadata": {},
   "outputs": [],
   "source": [
    "import numpy as np\n",
    "from scipy.special import psi\n",
    "\n",
    "def findpt(c, target):\n",
    "    left = 0\n",
    "    right = len(c) - 1\n",
    "\n",
    "    if target < c[left]:\n",
    "        return 0.5\n",
    "    elif target > c[right]:\n",
    "        return right + 0.5\n",
    "\n",
    "    while left != right:\n",
    "        pt = (left + right) // 2\n",
    "        if c[pt] < target:\n",
    "            left = pt\n",
    "        else:\n",
    "            right = pt\n",
    "\n",
    "        if left + 1 == right:\n",
    "            if c[left] == target:\n",
    "                return left\n",
    "            elif c[right] == target:\n",
    "                return right\n",
    "            else:\n",
    "                return (right + left) / 2\n",
    "    return pt\n",
    "\n",
    "def discrete_continuous_info_fast(d, c, k=3, base=np.e):\n",
    "    first_symbol = []\n",
    "    symbol_IDs = np.zeros(len(d), dtype=int)\n",
    "    c_split = []\n",
    "    cs_indices = []\n",
    "    num_d_symbols = 0\n",
    "\n",
    "    # Sort the lists by the continuous variable 'c'\n",
    "    c = np.sort(c)\n",
    "    d = d[np.argsort(c)]\n",
    "\n",
    "    # Bin the continuous data 'c' according to the discrete symbols 'd'\n",
    "    for c1 in range(len(d)):\n",
    "        symbol_IDs[c1] = num_d_symbols + 1\n",
    "        for c2 in range(num_d_symbols):\n",
    "            if d[c1] == d[first_symbol[c2]]:\n",
    "                symbol_IDs[c1] = c2 + 1\n",
    "                break\n",
    "        if symbol_IDs[c1] > num_d_symbols:\n",
    "            num_d_symbols += 1\n",
    "            first_symbol.append(c1)\n",
    "            c_split.append([])\n",
    "            cs_indices.append([])\n",
    "\n",
    "        c_split[symbol_IDs[c1] - 1].append(c[c1])\n",
    "        cs_indices[symbol_IDs[c1] - 1].append(c1)\n",
    "\n",
    "    # Compute the neighbor statistic for each data pair (c, d) using the binned c_split list\n",
    "    m_tot = 0\n",
    "    av_psi_Nd = 0\n",
    "    V = np.zeros(len(d))\n",
    "    psi_ks = 0\n",
    "\n",
    "    for c_bin in range(num_d_symbols):\n",
    "        one_k = min(k, len(c_split[c_bin]) - 1)\n",
    "\n",
    "        if one_k > 0:\n",
    "            for pivot in range(len(c_split[c_bin])):\n",
    "                left_neighbor = pivot\n",
    "                right_neighbor = pivot\n",
    "                one_c = c_split[c_bin][pivot]\n",
    "                for ck in range(one_k):\n",
    "                    if left_neighbor == 0:\n",
    "                        right_neighbor += 1\n",
    "                        the_neighbor = right_neighbor\n",
    "                    elif right_neighbor == len(c_split[c_bin]) - 1:\n",
    "                        left_neighbor -= 1\n",
    "                        the_neighbor = left_neighbor\n",
    "                    elif abs(c_split[c_bin][left_neighbor - 1] - one_c) < abs(c_split[c_bin][right_neighbor + 1] - one_c):\n",
    "                        left_neighbor -= 1\n",
    "                        the_neighbor = left_neighbor\n",
    "                    else:\n",
    "                        right_neighbor += 1\n",
    "                        the_neighbor = right_neighbor\n",
    "\n",
    "                distance_to_neighbor = abs(c_split[c_bin][the_neighbor] - one_c)\n",
    "\n",
    "                if the_neighbor == left_neighbor:\n",
    "                    m = int(findpt(c, one_c + distance_to_neighbor) - findpt(c, c_split[c_bin][left_neighbor]))\n",
    "                else:\n",
    "                    m = int(findpt(c, c_split[c_bin][right_neighbor]) - findpt(c, one_c - distance_to_neighbor))\n",
    "                if m < one_k:\n",
    "                    m = one_k\n",
    "\n",
    "                m_tot += psi(m)\n",
    "                V[cs_indices[c_bin][pivot]] = 2 * distance_to_neighbor\n",
    "\n",
    "        else:\n",
    "            m_tot += psi(num_d_symbols * 2)\n",
    "            V[cs_indices[c_bin][0]] = 2 * (c[-1] - c[0])\n",
    "\n",
    "        p_d = len(c_split[c_bin]) / len(d)\n",
    "        av_psi_Nd += p_d * psi(p_d * len(d))\n",
    "        psi_ks += p_d * psi(max(one_k, 1))\n",
    "\n",
    "    f = (psi(len(d)) - av_psi_Nd + psi_ks - m_tot / len(d)) / np.log(base)\n",
    "    return f, V\n",
    "\n"
   ]
  },
  {
   "cell_type": "code",
   "execution_count": 4,
   "metadata": {},
   "outputs": [
    {
     "name": "stdout",
     "output_type": "stream",
     "text": [
      "f: 0.696371218156502\n",
      "V: [0. 0. 0. 0. 0. 0. 0. 0. 0. 0. 0. 0. 0. 0. 0. 0. 0. 0. 0. 0. 0. 0. 0. 0.\n",
      " 0. 0. 0. 0. 0. 0. 0. 0. 0. 0. 0. 0. 0. 0. 0. 0. 0. 0. 0. 0. 0. 0. 0. 0.\n",
      " 0. 0. 0. 0. 0. 0. 0. 0. 0. 0. 0. 0. 0. 0. 0. 0. 0. 0. 0. 0. 0. 0. 0. 0.\n",
      " 0. 0. 0. 0. 0. 0. 0. 0. 0. 0. 0. 0. 0. 0. 0. 0. 0. 0. 0. 0. 0. 0. 0. 0.\n",
      " 0. 0. 0. 0.]\n"
     ]
    }
   ],
   "source": [
    "# Ejemplo de uso\n",
    "d = np.random.randint(0, 2, 100)\n",
    "c = np.random.randint(0, 2, 100)\n",
    "f, V = discrete_continuous_info_fast(c, d)\n",
    "print(\"f:\", f)\n",
    "print(\"V:\", V)"
   ]
  },
  {
   "cell_type": "code",
   "execution_count": 5,
   "metadata": {},
   "outputs": [
    {
     "name": "stdout",
     "output_type": "stream",
     "text": [
      "f: 0.6949689718641052\n",
      "V: [0. 0. 0. 0. 0. 0. 0. 0. 0. 0. 0. 0. 0. 0. 0. 0. 0. 0. 0. 0. 0. 0. 0. 0.\n",
      " 0. 0. 0. 0. 0. 0. 0. 0. 0. 0. 0. 0. 0. 0. 0. 0. 0. 0. 0. 0. 0. 0. 0. 0.\n",
      " 0. 0. 0. 0. 0. 0. 0. 0. 0. 0. 0. 0. 0. 0. 0. 0. 0. 0. 0. 0. 0. 0. 0. 0.\n",
      " 0. 0. 0. 0. 0. 0. 0. 0. 0. 0. 0. 0. 0. 0. 0. 0. 0. 0. 0. 0. 0. 0. 0. 0.\n",
      " 0. 0. 0. 0.]\n"
     ]
    }
   ],
   "source": [
    "# Ejemplo de uso\n",
    "d = np.random.randint(0, 2, 100)\n",
    "c = np.random.randint(0, 2, 100)\n",
    "f, V = discrete_continuous_info_fast(c, c)\n",
    "print(\"f:\", f)\n",
    "print(\"V:\", V)"
   ]
  },
  {
   "cell_type": "code",
   "execution_count": 6,
   "metadata": {},
   "outputs": [
    {
     "name": "stdout",
     "output_type": "stream",
     "text": [
      "f: 0.696371218156502\n",
      "V: [0. 0. 0. 0. 0. 0. 0. 0. 0. 0. 0. 0. 0. 0. 0. 0. 0. 0. 0. 0. 0. 0. 0. 0.\n",
      " 0. 0. 0. 0. 0. 0. 0. 0. 0. 0. 0. 0. 0. 0. 0. 0. 0. 0. 0. 0. 0. 0. 0. 0.\n",
      " 0. 0. 0. 0. 0. 0. 0. 0. 0. 0. 0. 0. 0. 0. 0. 0. 0. 0. 0. 0. 0. 0. 0. 0.\n",
      " 0. 0. 0. 0. 0. 0. 0. 0. 0. 0. 0. 0. 0. 0. 0. 0. 0. 0. 0. 0. 0. 0. 0. 0.\n",
      " 0. 0. 0. 0.]\n"
     ]
    }
   ],
   "source": [
    "# Ejemplo de uso\n",
    "d = np.random.randint(0, 2, 100)\n",
    "c = np.random.randint(0, 2, 100)\n",
    "f, V = discrete_continuous_info_fast(d, d)\n",
    "print(\"f:\", f)\n",
    "print(\"V:\", V)"
   ]
  },
  {
   "cell_type": "code",
   "execution_count": 9,
   "metadata": {},
   "outputs": [
    {
     "name": "stdout",
     "output_type": "stream",
     "text": [
      "f: 2.3025985322586444\n",
      "V: [0. 0. 0. ... 0. 0. 0.]\n"
     ]
    }
   ],
   "source": [
    "# Ejemplo de uso\n",
    "d = np.random.randint(0, 2, 100000)\n",
    "c = np.random.randint(0, 10, 100000)\n",
    "f, V = discrete_continuous_info_fast(c, d)\n",
    "print(\"f:\", f)\n",
    "print(\"V:\", V)"
   ]
  },
  {
   "cell_type": "code",
   "execution_count": 10,
   "metadata": {},
   "outputs": [
    {
     "name": "stdout",
     "output_type": "stream",
     "text": [
      "f: 0.6931516187859567\n",
      "V: [0. 0. 0. ... 0. 0. 0.]\n"
     ]
    }
   ],
   "source": [
    "# Ejemplo de uso\n",
    "d = np.random.randint(0, 2, 100000)\n",
    "c = np.random.randint(0, 10, 100000)\n",
    "f, V = discrete_continuous_info_fast(d, c)\n",
    "print(\"f:\", f)\n",
    "print(\"V:\", V)"
   ]
  },
  {
   "cell_type": "code",
   "execution_count": null,
   "metadata": {},
   "outputs": [],
   "source": []
  }
 ],
 "metadata": {
  "kernelspec": {
   "display_name": ".venv",
   "language": "python",
   "name": "python3"
  },
  "language_info": {
   "codemirror_mode": {
    "name": "ipython",
    "version": 3
   },
   "file_extension": ".py",
   "mimetype": "text/x-python",
   "name": "python",
   "nbconvert_exporter": "python",
   "pygments_lexer": "ipython3",
   "version": "3.11.9"
  }
 },
 "nbformat": 4,
 "nbformat_minor": 2
}
